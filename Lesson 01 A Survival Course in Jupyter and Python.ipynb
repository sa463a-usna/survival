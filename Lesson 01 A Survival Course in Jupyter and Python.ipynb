{
 "cells": [
  {
   "cell_type": "markdown",
   "metadata": {},
   "source": [
    "**SA463A &#x25aa; Data Wrangling and Visualization &#x25aa; Fall 2020 &#x25aa; Foraker and Uhan**"
   ]
  },
  {
   "cell_type": "markdown",
   "metadata": {},
   "source": [
    "# Lesson 1. A Survival Course in Jupyter and Python"
   ]
  },
  {
   "cell_type": "markdown",
   "metadata": {},
   "source": [
    "## What is Jupyter?"
   ]
  },
  {
   "cell_type": "markdown",
   "metadata": {},
   "source": [
    "* __Jupyter__ is an interactive computational environment where you can combine code, text and graphs\n",
    "\n",
    "\n",
    "* Until recently, Jupyter was called __IPython Notebook__. This historical tidbit might help if you're looking for other references\n",
    "\n",
    "\n",
    "* We'll be using Jupyter with the __Python__ programming langugage in this course"
   ]
  },
  {
   "cell_type": "markdown",
   "metadata": {},
   "source": [
    "## Structure of a notebook document"
   ]
  },
  {
   "cell_type": "markdown",
   "metadata": {},
   "source": [
    "* A notebook consists of a sequence of __cells__ of different types\n",
    "\n",
    "\n",
    "* We'll use these types of cells frequently:\n",
    "    * code cells\n",
    "    * Markdown cells\n",
    "\n",
    "\n",
    "* You can determine the type of a cell in the toolbar\n",
    "\n",
    "\n",
    "* You can run a cell by:\n",
    "    * clicking the __<i class=\"fa fa-step-forward\" aria-hidden=\"true\"></i> Run__ button in the tool bar\n",
    "    * selecting __Cell &#8594; Run Cells__ in the menu bar\n",
    "    * pressing <kbd>Shift</kbd>-<kbd>Enter</kbd>"
   ]
  },
  {
   "cell_type": "markdown",
   "metadata": {},
   "source": [
    "### Code cells"
   ]
  },
  {
   "cell_type": "markdown",
   "metadata": {},
   "source": [
    "* In a __code cell__, you can edit and write Python code\n",
    "    * We'll talk about Python shortly\n",
    "\n",
    "\n",
    "* For now, we can use a code cell as a fancy calculator\n",
    "\n",
    "\n",
    "* For example, in the code cell below, let's compute\n",
    "$$ \\frac{2^{5} - 368}{23 + 18} $$"
   ]
  },
  {
   "cell_type": "code",
   "execution_count": null,
   "metadata": {},
   "outputs": [],
   "source": []
  },
  {
   "cell_type": "markdown",
   "metadata": {},
   "source": [
    "* Note that a code cell has \n",
    "    * an __input__ section containing your code\n",
    "    * an __output__ section after executing the cell"
   ]
  },
  {
   "cell_type": "markdown",
   "metadata": {},
   "source": [
    "### Markdown cells"
   ]
  },
  {
   "cell_type": "markdown",
   "metadata": {},
   "source": [
    "* In a __Markdown cell__, you can enter text to write notes about your code and document your workflow\n",
    "\n",
    "\n",
    "* For example, this cell is a Markdown cell\n",
    "\n",
    "\n",
    "* The __Markdown__ language is a popular way to provide formatting (e.g. bold, italics, lists) to plain text\n",
    "    * Use Google to find documentation and tutorials. [Here's a pretty good cheat sheet.](https://github.com/adam-p/markdown-here/wiki/Markdown-Cheatsheet)\n",
    "\n",
    "\n",
    "* For now, here are a few basic, useful Markdown constructs:\n",
    "\n",
    "```\n",
    "You can format text as italic with *asterisks* or _underscores_.\n",
    "\n",
    "You can format text as bold with **double asterisks** or __double underscores__.\n",
    "\n",
    "To write an bulleted list, use *, -, or + as bullets, like this:\n",
    "\n",
    "* One\n",
    "* Two\n",
    "* Three\n",
    "```\n",
    "\n",
    "\n",
    "* To edit a Markdown cell, double-click it \n",
    "\n",
    "\n",
    "* When you're done editing it, run the cell\n",
    "\n",
    "\n",
    "* Try it in the cell below:"
   ]
  },
  {
   "cell_type": "markdown",
   "metadata": {},
   "source": [
    "*Double-click to edit this cell. Try out Markdown here.*"
   ]
  },
  {
   "cell_type": "markdown",
   "metadata": {},
   "source": [
    "## Manipulating cells"
   ]
  },
  {
   "cell_type": "markdown",
   "metadata": {},
   "source": [
    "* You can insert a new cell by selecting __Insert &#8594; Insert Cell Above/Below__ in the menu bar\n",
    "\n",
    "\n",
    "* You can copy and paste cells using the __Edit__ menu\n",
    "\n",
    "\n",
    "* You can also split, merge, move, and delete cells using the __Edit__ menu"
   ]
  },
  {
   "cell_type": "markdown",
   "metadata": {},
   "source": [
    "## Saving your notebook"
   ]
  },
  {
   "cell_type": "markdown",
   "metadata": {},
   "source": [
    "* Jupyter autosaves your notebook every few minutes\n",
    "\n",
    "\n",
    "* To manually save, click the <i class=\"fa fa-floppy-o\"></i> icon, or select __File &#8594; Save and Checkpoint__\n",
    "\n",
    "\n",
    "* To close the notebook, select __File &#8594; Close and Halt__\n",
    "    - **You should always close the notebook this way!**\n",
    "    - Just closing the tab/window will leave the notebook running in the background\n",
    "    - You can get a list of running notebooks in the __Running__ tab of the Jupyter dashboard (the main Jupyter screen)"
   ]
  },
  {
   "cell_type": "markdown",
   "metadata": {},
   "source": [
    "## Moving on..."
   ]
  },
  {
   "cell_type": "markdown",
   "metadata": {},
   "source": [
    "* We'll go over some other features of Jupyter later\n",
    "\n",
    "\n",
    "* [The official documentation is here](http://jupyter-notebook.readthedocs.io/en/latest/)\n",
    "\n",
    "\n",
    "* There are many resources out there on using Jupyter &mdash; Google is your friend!"
   ]
  },
  {
   "cell_type": "markdown",
   "metadata": {},
   "source": [
    "<hr style=\"border-top: 2px solid gray; margin-top: 1px; margin-bottom: 1px\"></hr>"
   ]
  },
  {
   "cell_type": "markdown",
   "metadata": {},
   "source": [
    "## What is Python?"
   ]
  },
  {
   "cell_type": "markdown",
   "metadata": {},
   "source": [
    "* __Python__ is a *free*, open-source, general-purpose programming language\n",
    "\n",
    "\n",
    "* Python is popular and used everywhere &mdash; a few examples:\n",
    "    - [Automation, monitoring, data science, and more at Netflix](https://medium.com/netflix-techblog/python-at-netflix-86b6028b3b3e)\n",
    "    - [Special effects at Industrial Light and Magic](https://www.davincicoders.com/codingblog/2017/2/10/love-movies-learn-to-code-python-and-you-might-work-for-ilm)\n",
    "    - [Analysis of historical texts](https://digitalorientalist.com/2019/07/01/making-a-basic-textual-analysis-program-in-python/)\n",
    "\n",
    "\n",
    "* Python is \"beautiful\": its syntax was designed with an emphasis on readability\n",
    "\n",
    "\n",
    "* Python has become the language of choice for data science and machine learning\n",
    "\n",
    "\n",
    "* \"It's good for you\" \n",
    "    * Having exposure to multiple programming languages will be very useful to you as a {data scientist, economist, operations researcher, quantitative analyst, statistician, etc}"
   ]
  },
  {
   "cell_type": "markdown",
   "metadata": {},
   "source": [
    "## Python basics"
   ]
  },
  {
   "cell_type": "markdown",
   "metadata": {},
   "source": [
    "* In this lesson, we will learn some basic Python concepts\n",
    "\n",
    "\n",
    "* There is a wealth of information on Python on the web!\n",
    "\n",
    "\n",
    "* [Here is the documentation for the latest version of Python](https://docs.python.org/3.8/)"
   ]
  },
  {
   "cell_type": "markdown",
   "metadata": {},
   "source": [
    "## Fancy calculator"
   ]
  },
  {
   "cell_type": "markdown",
   "metadata": {},
   "source": [
    "* You can define a variable using the `=` sign\n",
    "\n",
    "\n",
    "* You can perform arithmetic operations on variables\n",
    "\n",
    "\n",
    "* You can print the value of a variable using the `print()` function\n",
    "\n",
    "\n",
    "* Don't forget to run the cell when you're done!"
   ]
  },
  {
   "cell_type": "code",
   "execution_count": null,
   "metadata": {},
   "outputs": [],
   "source": [
    "# This is what a comment looks like in Python\n",
    "# Define dimensions of a rectangle\n",
    "\n",
    "\n",
    "# Compute area\n",
    "\n",
    "\n",
    "# Print area\n"
   ]
  },
  {
   "cell_type": "markdown",
   "metadata": {},
   "source": [
    "* If you try to access a variable you haven't yet defined, Python will complain"
   ]
  },
  {
   "cell_type": "code",
   "execution_count": null,
   "metadata": {},
   "outputs": [],
   "source": [
    "print(volume)"
   ]
  },
  {
   "cell_type": "markdown",
   "metadata": {},
   "source": [
    "* Let's define the height of a box, so we can compute volume"
   ]
  },
  {
   "cell_type": "code",
   "execution_count": null,
   "metadata": {
    "run_control": {
     "marked": false
    }
   },
   "outputs": [],
   "source": [
    "# Define height of box\n",
    "\n",
    "\n",
    "# Compute volume\n",
    "\n",
    "\n",
    "# Print volume\n"
   ]
  },
  {
   "cell_type": "markdown",
   "metadata": {},
   "source": [
    "* Note that the __prompt numbers__ next to the code cells (e.g. `In [3]` and `Out [3]`) indicate which cells have been run and *in which order*\n",
    "\n",
    "\n",
    "* This is very useful, especially if you are running cells out-of-sequence"
   ]
  },
  {
   "cell_type": "markdown",
   "metadata": {},
   "source": [
    "## Hello, world!"
   ]
  },
  {
   "cell_type": "markdown",
   "metadata": {},
   "source": [
    "* __Strings__ are lists of printable characters defined using either double quotes or single quotes\n",
    "\n",
    "\n",
    "* Just like with variables, to print a string, you can use the `print()` function"
   ]
  },
  {
   "cell_type": "code",
   "execution_count": null,
   "metadata": {},
   "outputs": [],
   "source": [
    "# Print \"Hello, world!\"\n"
   ]
  },
  {
   "cell_type": "markdown",
   "metadata": {},
   "source": [
    "* To insert a variable's value into a string:\n",
    "    - place the letter `f` immediately before the opening quotation mark\n",
    "    - put braces around the names of any variables you want to use inside the string\n",
    "\n",
    "\n",
    "* These strings are called __f-strings__\n",
    "\n",
    "\n",
    "* For example:"
   ]
  },
  {
   "cell_type": "code",
   "execution_count": null,
   "metadata": {},
   "outputs": [],
   "source": [
    "# Define a variable for your neighbor's name\n",
    "\n",
    "\n",
    "# Print the value of the 'neighbor' variable\n"
   ]
  },
  {
   "cell_type": "markdown",
   "metadata": {},
   "source": [
    "* Strings, like many **objects** in Python, have associated **methods** that do something to the string\n",
    "\n",
    "\n",
    "* For example:"
   ]
  },
  {
   "cell_type": "code",
   "execution_count": null,
   "metadata": {},
   "outputs": [],
   "source": [
    "# Define an example string\n",
    "example = 'the quick brown fox jumped over the lazy dog.'\n",
    "\n",
    "# A method that returns the same string, but in all uppercase:\n",
    "print(  )\n",
    "\n",
    "# A method that returns the same string, but in title case:\n",
    "print(  )\n",
    "\n",
    "# A method that returns the same string, but with a specified\n",
    "# phrase replaced with another specified phrase\n",
    "print(  )"
   ]
  },
  {
   "cell_type": "markdown",
   "metadata": {},
   "source": [
    "## Lists"
   ]
  },
  {
   "cell_type": "markdown",
   "metadata": {},
   "source": [
    "* A __list__ is a collection of items that are organized in a particular order\n",
    "\n",
    "\n",
    "* You can think of a list as an array or a vector\n",
    "\n",
    "\n",
    "* A list is written as a sequence of comma-separated items between square brackets"
   ]
  },
  {
   "cell_type": "code",
   "execution_count": null,
   "metadata": {},
   "outputs": [],
   "source": [
    "# Define a list containing the first 5 square numbers\n",
    "squares = [0, 1, 4, 9, 16]\n",
    "\n",
    "# Define a list containing the days of the week\n",
    "days_of_the_week = ['Sun', 'Mon', 'Tue', 'Wed', 'Thu', 'Fri', 'Sat']"
   ]
  },
  {
   "cell_type": "markdown",
   "metadata": {},
   "source": [
    "* To get the first item in `days_of_the_week`, we would write\n",
    "\n",
    "    ```python\n",
    "    days_of_the_week[0]\n",
    "    ```\n",
    "\n",
    "* __In Python, indexing (that is, counting) starts at 0!__"
   ]
  },
  {
   "cell_type": "code",
   "execution_count": null,
   "metadata": {
    "scrolled": true
   },
   "outputs": [],
   "source": [
    "# The third day of the week is...\n",
    "print(  )"
   ]
  },
  {
   "cell_type": "markdown",
   "metadata": {},
   "source": [
    "- We can also grab consecutive items of a list through **slicing**: we can grab the first 4 items in `days_of_the_week` with\n",
    "\n",
    "    ```python\n",
    "    days_of_the_week[0:4]\n",
    "    ```"
   ]
  },
  {
   "cell_type": "code",
   "execution_count": null,
   "metadata": {},
   "outputs": [],
   "source": [
    "# The last 3 days of the week are...\n",
    "print(  )"
   ]
  },
  {
   "cell_type": "markdown",
   "metadata": {},
   "source": [
    "* You can add items to the end of a list using the `.append()` method\n",
    "\n",
    "\n",
    "* You can also print lists just like any other variable"
   ]
  },
  {
   "cell_type": "code",
   "execution_count": null,
   "metadata": {},
   "outputs": [],
   "source": [
    "# Let's add the 6th squared number\n",
    "\n",
    "\n",
    "# What does the list look like now?\n",
    "print(  )"
   ]
  },
  {
   "cell_type": "markdown",
   "metadata": {},
   "source": [
    "* We can determine the length of a list using the `len()` function"
   ]
  },
  {
   "cell_type": "code",
   "execution_count": null,
   "metadata": {},
   "outputs": [],
   "source": [
    "# How many days of the week are there?\n"
   ]
  },
  {
   "cell_type": "markdown",
   "metadata": {},
   "source": [
    "## Dictionaries"
   ]
  },
  {
   "cell_type": "markdown",
   "metadata": {},
   "source": [
    "* A __dictionary__ is another way to organize a collection of items\n",
    "\n",
    "\n",
    "* A dictionary maps __keys__ to __values__.\n",
    "    - Just like a real-world dictionary maps *words* to *definitions*\n",
    "\n",
    "\n",
    "* We can create a dictionary by starting with an empty dictionary and adding key-value pairs\n",
    "\n",
    "\n",
    "* You can also print dictionaries just like any other variable"
   ]
  },
  {
   "cell_type": "code",
   "execution_count": null,
   "metadata": {},
   "outputs": [],
   "source": [
    "# Create empty dictionary\n",
    "mid = {}\n",
    "\n",
    "# Add key-value pairs\n",
    "mid['First Name'] = 'Nelson'\n",
    "mid['Last Name'] = 'Uhan'\n",
    "mid['Company'] = 0\n",
    "\n",
    "# Print the dictionary\n",
    "print(mid)"
   ]
  },
  {
   "cell_type": "markdown",
   "metadata": {},
   "source": [
    "* We can also create a dictionary by specifying the key-value pairs directly between braces `{ }`:"
   ]
  },
  {
   "cell_type": "code",
   "execution_count": null,
   "metadata": {},
   "outputs": [],
   "source": [
    "# Create dictionary\n",
    "\n",
    "\n",
    "# Print the dictionary\n",
    "print(mid2)"
   ]
  },
  {
   "cell_type": "markdown",
   "metadata": {},
   "source": [
    "* Similar to a list, we can use a key to look up the corresponding value in a dictionary as follows:"
   ]
  },
  {
   "cell_type": "code",
   "execution_count": null,
   "metadata": {},
   "outputs": [],
   "source": [
    "# The last name of this mid is...\n",
    "print(  )"
   ]
  },
  {
   "cell_type": "markdown",
   "metadata": {},
   "source": [
    "## Loops and nesting"
   ]
  },
  {
   "cell_type": "markdown",
   "metadata": {},
   "source": [
    "* We can iterate through lists using the `for` statement"
   ]
  },
  {
   "cell_type": "code",
   "execution_count": null,
   "metadata": {},
   "outputs": [],
   "source": [
    "# Define a list containing the months of the year\n",
    "months_of_the_year = [\"Jan\", \"Feb\", \"Mar\", \"Apr\", \"May\", \"Jun\", \"Jul\", \"Aug\", \"Sep\", \"Nov\", \"Dec\"]\n",
    "\n",
    "# Print the months of the year, one by one\n"
   ]
  },
  {
   "cell_type": "markdown",
   "metadata": {},
   "source": [
    "* Python defines blocks of code using a __colon ( : )__ followed by __indentation__\n",
    "\n",
    "\n",
    "* The above code is NOT the same as\n",
    "    ```python\n",
    "    for month in months_of_the_year:\n",
    "    print(month)\n",
    "    ```\n",
    "\n",
    "\n",
    "* Always use the __Tab__ key to indent &ndash; this will keep your indentation consistent"
   ]
  },
  {
   "cell_type": "markdown",
   "metadata": {},
   "source": [
    "## If this, then that"
   ]
  },
  {
   "cell_type": "markdown",
   "metadata": {},
   "source": [
    "* The `==` operator performs __equality testing__: \n",
    "    - If the two items on either side of `==` are equal, then it returns `True`\n",
    "    - Otherwise, it returns `False`"
   ]
  },
  {
   "cell_type": "code",
   "execution_count": null,
   "metadata": {},
   "outputs": [],
   "source": [
    "# Let's define today to be Tuesday\n",
    "today = \"Tuesday\""
   ]
  },
  {
   "cell_type": "code",
   "execution_count": null,
   "metadata": {},
   "outputs": [],
   "source": [
    "# Is today Thursday?\n",
    "print(today == \"Tuesday\")"
   ]
  },
  {
   "cell_type": "code",
   "execution_count": null,
   "metadata": {},
   "outputs": [],
   "source": [
    "# Is today Friday?\n",
    "print(today == \"Friday\")"
   ]
  },
  {
   "cell_type": "markdown",
   "metadata": {},
   "source": [
    "* Conditional statements are written using the same block/indentation structure as `for` statements, using the keywords `if`, `elif`, and `else`"
   ]
  },
  {
   "cell_type": "code",
   "execution_count": null,
   "metadata": {},
   "outputs": [],
   "source": [
    "# Today is...\n",
    "today = \"Saturday\"\n",
    "\n",
    "# What should I do?\n"
   ]
  },
  {
   "cell_type": "markdown",
   "metadata": {},
   "source": [
    "* Other types of comparisons:\n",
    "\n",
    "| Comparison | Meaning |\n",
    "| :----------- | :-------- |\n",
    "| `==`         | equal  |\n",
    "| `!=`         | not equal |\n",
    "| `<`          | less than  |\n",
    "| `>`          | greater than |\n",
    "| `<=`         | less than or equal |\n",
    "| `>=`         | greater than or equal |"
   ]
  },
  {
   "cell_type": "markdown",
   "metadata": {},
   "source": [
    "<hr style=\"border-top: 2px solid gray; margin-top: 1px; margin-bottom: 1px\"></hr>"
   ]
  },
  {
   "cell_type": "markdown",
   "metadata": {},
   "source": [
    "## Useful Jupyter features"
   ]
  },
  {
   "cell_type": "markdown",
   "metadata": {},
   "source": [
    "### Line numbers"
   ]
  },
  {
   "cell_type": "markdown",
   "metadata": {},
   "source": [
    "* Put line numbers in code cells by selecting __View &#8594; Toggle Line Numbers__"
   ]
  },
  {
   "cell_type": "markdown",
   "metadata": {},
   "source": [
    "### Indenting multiple lines"
   ]
  },
  {
   "cell_type": "markdown",
   "metadata": {},
   "source": [
    "* Highlight the lines you want to indent, and then press <kbd>Tab</kbd>\n",
    "\n",
    "\n",
    "* If you want to de-indent them (i.e. indent them to the left), press <kbd>Shift-Tab</kbd>"
   ]
  },
  {
   "cell_type": "code",
   "execution_count": null,
   "metadata": {},
   "outputs": [],
   "source": [
    "# Try turning on and turning off line numbers in this cell.\n",
    "# Play around with indenting and de-indenting code.\n",
    "# Read the code in this cell. Make sure you understand what it does!\n",
    "student_names = ['Amy', 'Bob', 'Carol']\n",
    "for name in student_names:\n",
    "    print(f'The name of this student is {name}.')\n",
    "\n",
    "english_words = ['home', 'navy']\n",
    "spanish = {'home': 'casa', 'navy': 'armada'}\n",
    "\n",
    "for word in english_words:\n",
    "    print(f\"The Spanish word for {word} is {spanish[word]}.\")"
   ]
  },
  {
   "cell_type": "markdown",
   "metadata": {},
   "source": [
    "### Running multiple cells"
   ]
  },
  {
   "cell_type": "markdown",
   "metadata": {},
   "source": [
    "* You can run all the cells in a notebook by selecting __Cell &#8594; Run All__\n",
    "\n",
    "\n",
    "* You can run all the cells above/below the current cell by selecting __Cell &#8594; Run All Above/Below__"
   ]
  },
  {
   "cell_type": "markdown",
   "metadata": {},
   "source": [
    "### Clearing the output of code cells"
   ]
  },
  {
   "cell_type": "markdown",
   "metadata": {},
   "source": [
    "* You can clear the output of a code cell by selecting __Cell &#8594; Current Output &#8594; Clear__\n",
    "\n",
    "\n",
    "* You can clear the output of all code cells by selecting __Cell &#8594; All Output &#8594; Clear__"
   ]
  }
 ],
 "metadata": {
  "kernelspec": {
   "display_name": "Python 3",
   "language": "python",
   "name": "python3"
  },
  "language_info": {
   "codemirror_mode": {
    "name": "ipython",
    "version": 3
   },
   "file_extension": ".py",
   "mimetype": "text/x-python",
   "name": "python",
   "nbconvert_exporter": "python",
   "pygments_lexer": "ipython3",
   "version": "3.7.6"
  }
 },
 "nbformat": 4,
 "nbformat_minor": 1
}
